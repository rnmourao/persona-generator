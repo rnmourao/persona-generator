{
 "cells": [
  {
   "cell_type": "code",
   "execution_count": null,
   "metadata": {},
   "outputs": [],
   "source": []
  }
 ],
 "metadata": {
  "kernelspec": {
   "display_name": "Python 3",
   "language": "python",
   "name": "python3"
  },
  "language_info": {
   "name": "python",
   "version": "3.10.6"
  },
  "orig_nbformat": 4,
  "vscode": {
   "interpreter": {
    "hash": "ca3b10c7c95292c5641b5927f29847a02250b515f14843cd6923289c739a5a20"
   }
  }
 },
 "nbformat": 4,
 "nbformat_minor": 2
}
